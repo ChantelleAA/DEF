{
 "cells": [
  {
   "cell_type": "code",
   "execution_count": 1,
   "metadata": {},
   "outputs": [
    {
     "name": "stdout",
     "output_type": "stream",
     "text": [
      "Collecting django\n",
      "  Downloading Django-4.2.13-py3-none-any.whl.metadata (4.1 kB)\n",
      "Collecting asgiref<4,>=3.6.0 (from django)\n",
      "  Downloading asgiref-3.8.1-py3-none-any.whl.metadata (9.3 kB)\n",
      "Collecting sqlparse>=0.3.1 (from django)\n",
      "  Downloading sqlparse-0.5.0-py3-none-any.whl.metadata (3.9 kB)\n",
      "Requirement already satisfied: tzdata in c:\\users\\chant\\anaconda3\\envs\\tensorflow\\lib\\site-packages (from django) (2024.1)\n",
      "Requirement already satisfied: typing-extensions>=4 in c:\\users\\chant\\anaconda3\\envs\\tensorflow\\lib\\site-packages (from asgiref<4,>=3.6.0->django) (4.11.0)\n",
      "Downloading Django-4.2.13-py3-none-any.whl (8.0 MB)\n",
      "   ---------------------------------------- 0.0/8.0 MB ? eta -:--:--\n",
      "   ---------------------------------------- 0.1/8.0 MB 2.3 MB/s eta 0:00:04\n",
      "   ---- ----------------------------------- 0.9/8.0 MB 11.4 MB/s eta 0:00:01\n",
      "   --------- ------------------------------ 2.0/8.0 MB 15.8 MB/s eta 0:00:01\n",
      "   ---------------- ----------------------- 3.2/8.0 MB 18.8 MB/s eta 0:00:01\n",
      "   ---------------------- ----------------- 4.5/8.0 MB 20.3 MB/s eta 0:00:01\n",
      "   ---------------------------- ----------- 5.7/8.0 MB 21.6 MB/s eta 0:00:01\n",
      "   ---------------------------------- ----- 6.9/8.0 MB 23.3 MB/s eta 0:00:01\n",
      "   ---------------------------------------  7.9/8.0 MB 23.1 MB/s eta 0:00:01\n",
      "   ---------------------------------------- 8.0/8.0 MB 21.3 MB/s eta 0:00:00\n",
      "Downloading asgiref-3.8.1-py3-none-any.whl (23 kB)\n",
      "Downloading sqlparse-0.5.0-py3-none-any.whl (43 kB)\n",
      "   ---------------------------------------- 0.0/44.0 kB ? eta -:--:--\n",
      "   ---------------------------------------- 44.0/44.0 kB ? eta 0:00:00\n",
      "Installing collected packages: sqlparse, asgiref, django\n",
      "Successfully installed asgiref-3.8.1 django-4.2.13 sqlparse-0.5.0\n"
     ]
    }
   ],
   "source": [
    "!pip install django"
   ]
  },
  {
   "cell_type": "code",
   "execution_count": 2,
   "metadata": {},
   "outputs": [],
   "source": [
    "!django-admin startproject MediationSystem\n",
    "!cd MediationSystem && django-admin startapp mediators\n"
   ]
  },
  {
   "cell_type": "code",
   "execution_count": 1,
   "metadata": {},
   "outputs": [
    {
     "name": "stderr",
     "output_type": "stream",
     "text": [
      "UsageError: Line magic function `%%writefile` not found.\n"
     ]
    }
   ],
   "source": [
    "# Models are Python classes that define the structure of your database. Each model represents a table in the database.\n",
    "\n",
    "%%writefile MediationSystem/mediators/models.py\n",
    "\n",
    "from django.db import models\n",
    "\n",
    "class Client(models.Model):\n",
    "    CLAIM_TYPES = [\n",
    "        ('appeals', 'Appeals'),\n",
    "        ('aviation', 'Aviation'),\n",
    "        ('business_dispute', 'Business Dispute'),\n",
    "        ('chancery', 'Chancery'),\n",
    "        ('clinical_negligence', 'Clinical Negligence'),\n",
    "        ('construction', 'Construction'),\n",
    "        ('costs', 'Costs'),\n",
    "        ('employment', 'Employment'),\n",
    "        ('family_children', 'Family – Children'),\n",
    "        ('family_divorce', 'Family – Divorce'),\n",
    "        ('family_financial', 'Family – Financial'),\n",
    "        ('family_inheritance', 'Family – Inheritance Act'),\n",
    "        ('fire_damage', 'Fire damage'),\n",
    "        ('flood_damage', 'Flood damage'),\n",
    "        ('personal_injury_abuse_claims', 'Personal Injury - Abuse claims'),\n",
    "        ('personal_injury_cica', 'Personal Injury - CICA'),\n",
    "        ('personal_injury_employer_liability', 'Personal Injury - Employer Liability'),\n",
    "        ('personal_injury_mib_untraced', 'Personal Injury - MIB untraced'),\n",
    "        ('personal_injury_military', 'Personal Injury - Military'),\n",
    "        ('personal_injury_occupational_disease', 'Personal Injury - Occupational disease'),\n",
    "        ('personal_injury_public_liability', 'Personal Injury - Public Liability (PL)'),\n",
    "        ('personal_injury_road_traffic_whiplash', 'Personal injury - Road Traffic and Whiplash'),\n",
    "        ('personal_injury_travel', 'Personal injury - Travel'),\n",
    "        ('planning', 'Planning'),\n",
    "        ('property_non_fire_flood', 'Property (non-fire/flood)'),\n",
    "        ('shipping', 'Shipping'),\n",
    "        ('travel_abta', 'Travel – ABTA'),\n",
    "        ('travel_non_abta', 'Travel – non-ABTA'),\n",
    "        ('workplace_issues', 'Workplace issues (not personal injury)')\n",
    "    ]\n",
    "\n",
    "    name = models.CharField(max_length=100)\n",
    "    contact_info = models.TextField()\n",
    "    claims = models.TextField()\n",
    "    claim_type = models.CharField(max_length=50, choices=CLAIM_TYPES)\n",
    "    created_at = models.DateTimeField(auto_now_add=True)\n",
    "    updated_at = models.DateTimeField(auto_now=True)\n",
    "\n",
    "class Mediator(models.Model):\n",
    "    name = models.CharField(max_length=100)\n",
    "    contact_info = models.TextField()\n",
    "    expertise = models.JSONField()  # List of expertise areas\n",
    "    experience = models.IntegerField()\n",
    "    membership = models.TextField()\n",
    "    style_approach = models.TextField()\n",
    "    availability = models.JSONField()  # List of available days and times\n",
    "    created_at = models.DateTimeField(auto_now_add=True)\n",
    "    updated_at = models.DateTimeField(auto_now=True)\n",
    "\n",
    "class Case(models.Model):\n",
    "    clients = models.ManyToManyField(Client, through='CaseClient')\n",
    "    title = models.CharField(max_length=200)\n",
    "    description = models.TextField()\n",
    "    case_type = models.CharField(max_length=50, choices=Client.CLAIM_TYPES)\n",
    "    created_at = models.DateTimeField(auto_now_add=True)\n",
    "    updated_at = models.DateTimeField(auto_now=True)\n",
    "\n",
    "class CaseClient(models.Model):\n",
    "    case = models.ForeignKey(Case, on_delete=models.CASCADE)\n",
    "    client = models.ForeignKey(Client, on_delete=models.CASCADE)\n",
    "    created_at = models.DateTimeField(auto_now_add=True)\n",
    "    updated_at = models.DateTimeField(auto_now=True)\n",
    "\n",
    "class Appointment(models.Model):\n",
    "    case = models.ForeignKey(Case, on_delete=models.CASCADE)\n",
    "    mediator = models.ForeignKey(Mediator, on_delete=models.CASCADE)\n",
    "    appointment_date = models.DateField()\n",
    "    appointment_time = models.TimeField()\n",
    "    created_at = models.DateTimeField(auto_now_add=True)\n",
    "    updated_at = models.DateTimeField(auto_now=True)\n",
    "\n",
    "class Keyword(models.Model):\n",
    "    word = models.CharField(max_length=255, unique=True)\n",
    "    created_at = models.DateTimeField(auto_now_add=True)\n",
    "    updated_at = models.DateTimeField(auto_now=True)\n",
    "\n",
    "class CaseKeyword(models.Model):\n",
    "    case = models.ForeignKey(Case, on_delete=models.CASCADE)\n",
    "    keyword = models.ForeignKey(Keyword, on_delete=models.CASCADE)\n",
    "    created_at = models.DateTimeField(auto_now_add=True)\n",
    "    updated_at = models.DateTimeField(auto_now=True)\n",
    "\n",
    "class MediatorKeyword(models.Model):\n",
    "    mediator = models.ForeignKey(Mediator, on_delete=models.CASCADE)\n",
    "    keyword = models.ForeignKey(Keyword, on_delete=models.CASCADE)\n",
    "    created_at = models.DateTimeField(auto_now_add=True)\n",
    "    updated_at = models.DateTimeField(auto_now=True)\n"
   ]
  },
  {
   "cell_type": "code",
   "execution_count": null,
   "metadata": {},
   "outputs": [],
   "source": [
    "!cd MediationSystem && python manage.py makemigrations\n",
    "!cd MediationSystem && python manage.py migrate"
   ]
  }
 ],
 "metadata": {
  "kernelspec": {
   "display_name": "tensorflow",
   "language": "python",
   "name": "python3"
  },
  "language_info": {
   "codemirror_mode": {
    "name": "ipython",
    "version": 3
   },
   "file_extension": ".py",
   "mimetype": "text/x-python",
   "name": "python",
   "nbconvert_exporter": "python",
   "pygments_lexer": "ipython3",
   "version": "3.9.18"
  }
 },
 "nbformat": 4,
 "nbformat_minor": 2
}
